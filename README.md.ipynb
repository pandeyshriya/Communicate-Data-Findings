{
 "cells": [
  {
   "cell_type": "markdown",
   "id": "84c0924b",
   "metadata": {},
   "source": [
    "### Communicate-Data-Findings"
   ]
  },
  {
   "cell_type": "markdown",
   "id": "c7466e4e",
   "metadata": {},
   "source": [
    "readme.md - Markdown file that contains sections where you will get all details done in analysis complete.\n",
    "\n",
    "Part_I_exploration_template.ipynb - Contains section to help you organize your exploration, starting from loading in the data, working through univariate,bivariate and multivariate exploration.\n",
    "\n",
    "Part_II_slide_deck_template.ipynb - Contains starter cells to help you organize your slide deck deliverable including pre-set slideshow settings."
   ]
  },
  {
   "cell_type": "markdown",
   "id": "cc2a88b5",
   "metadata": {},
   "source": [
    "There are two types of clients using the system: Subscribers and Customers. Subscribers are primarily daily commuters, having short trips to and from work, who rent a bike on weekdays at 8-9am and 5-6pm."
   ]
  },
  {
   "cell_type": "markdown",
   "id": "9c0a0cbb",
   "metadata": {},
   "source": [
    "- Majority users are from 20-40 age group.\n",
    "- Rides made by male users are more than triple that of female users\n",
    "- Rides made by subscribers are more than double that of customers"
   ]
  },
  {
   "cell_type": "markdown",
   "id": "8b656c53",
   "metadata": {},
   "source": [
    "- here is a clear that riders on weekdays almost double that of weekends"
   ]
  },
  {
   "cell_type": "markdown",
   "id": "0bd5ba44",
   "metadata": {},
   "source": [
    "- Customer group ride on weekdays as frequently as on weekends, while Subscriber group primarly ride on weekdays.\n",
    "- On weekdays, both Customer group and Subscriber group ride more in peak hours."
   ]
  },
  {
   "cell_type": "markdown",
   "id": "79535758",
   "metadata": {},
   "source": [
    "#### Key Insights for Presentation\n",
    "\n",
    "##### Customers :\n",
    "most bike rides happen around 8-9am and 4-5pm\n",
    "\n",
    "##### Subscribers :\n",
    "most bike rides happen around 8-9am and 5-6pm "
   ]
  }
 ],
 "metadata": {
  "kernelspec": {
   "display_name": "Python 3 (ipykernel)",
   "language": "python",
   "name": "python3"
  },
  "language_info": {
   "codemirror_mode": {
    "name": "ipython",
    "version": 3
   },
   "file_extension": ".py",
   "mimetype": "text/x-python",
   "name": "python",
   "nbconvert_exporter": "python",
   "pygments_lexer": "ipython3",
   "version": "3.9.12"
  }
 },
 "nbformat": 4,
 "nbformat_minor": 5
}
